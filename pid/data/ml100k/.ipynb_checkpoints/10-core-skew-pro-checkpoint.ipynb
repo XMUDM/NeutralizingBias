{
 "cells": [
  {
   "cell_type": "code",
   "execution_count": null,
   "metadata": {},
   "outputs": [],
   "source": [
    "# coding = utf-8\n",
    "\n",
    "import numpy as np\n",
    "import pandas as pd\n",
    "from sklearn.model_selection import train_test_split\n",
    "from scipy.sparse import coo_matrix\n",
    "import scipy.sparse as sp\n",
    "\n",
    "from random import sample"
   ]
  },
  {
   "cell_type": "code",
   "execution_count": 41,
   "metadata": {},
   "outputs": [],
   "source": [
    "filename = 'ml-100k.inter'\n",
    "train_ratio = 0.7\n",
    "\n",
    "ratings = pd.read_table(filename, sep=\"\\t\", header=None, names=[\"UserID\", \"MovieID\", \"Rating\", \"TimeStamp\"],\n",
    "                        engine='python')\n",
    "ratings = ratings[['UserID', 'MovieID', 'Rating']]  # 去掉TimeStamp\n",
    "ratings = ratings.drop([0])"
   ]
  },
  {
   "cell_type": "code",
   "execution_count": 42,
   "metadata": {},
   "outputs": [
    {
     "name": "stdout",
     "output_type": "stream",
     "text": [
      "99999\n",
      "97952\n"
     ]
    }
   ],
   "source": [
    "# 10 core\n",
    "\n",
    "length = 0\n",
    "while(True):\n",
    "    if length == len(ratings):\n",
    "        break\n",
    "    length = len(ratings)\n",
    "    l1 = ratings.loc[:,'UserID'].value_counts()\n",
    "    l2 = ratings.loc[:,'MovieID'].value_counts()\n",
    "    l1 =l1[l1.values >=10].index.tolist()\n",
    "    l2 =l2[l2.values >=10].index.tolist()\n",
    "    ratings = ratings.loc[(ratings['UserID'].isin(l1)) & (ratings['MovieID'].isin(l2))]\n",
    "    print(length)"
   ]
  },
  {
   "cell_type": "code",
   "execution_count": 49,
   "metadata": {},
   "outputs": [
    {
     "name": "stdout",
     "output_type": "stream",
     "text": [
      "943\n",
      "1152\n"
     ]
    }
   ],
   "source": [
    "# 重新命名\n",
    "\n",
    "def numerize(data):\n",
    "    uid = list(map(lambda x: user2id[x], data['UserID']))\n",
    "    iid = list(map(lambda x: item2id[x], data['MovieID']))\n",
    "    data['UserID'] = uid\n",
    "    data['MovieID'] = iid\n",
    "    return data\n",
    "\n",
    "num_users = len(ratings[\"UserID\"].unique())\n",
    "num_items = len(ratings[\"MovieID\"].unique())\n",
    "user_count = ratings[\"UserID\"].value_counts()\n",
    "item_count = ratings[\"MovieID\"].value_counts()\n",
    "print(num_users)\n",
    "print(num_items)\n",
    "\n",
    "uidList = list(user_count.index)  # userID list\n",
    "iidList = list(item_count.index)  # itemID list\n",
    "\n",
    "user2id = dict((uid, i) for(i, uid) in enumerate(uidList))\n",
    "item2id = dict((iid, i) for(i, iid) in enumerate(iidList))\n",
    "ratings = numerize(ratings)"
   ]
  },
  {
   "cell_type": "code",
   "execution_count": 50,
   "metadata": {},
   "outputs": [],
   "source": [
    "u = list(map(lambda x: int(x), ratings['UserID'].tolist()))\n",
    "m = list(map(lambda x: int(x), ratings['MovieID'].tolist()))\n",
    "r = list(map(lambda x: int(x), ratings['Rating'].tolist()))\n",
    "\n",
    "c = coo_matrix((r, (u, m)), shape=(num_users+2, num_items+2))\n",
    "\n",
    "sp.save_npz('10core_coo_record.npz', c)\n",
    "ratings.to_csv('10core_all_data.csv')"
   ]
  },
  {
   "cell_type": "code",
   "execution_count": 51,
   "metadata": {},
   "outputs": [],
   "source": [
    "def PreProcessData(originData):\n",
    "    \"\"\"\n",
    "    建立User-Item表，结构如下：\n",
    "        {\"User1\": {MovieID1, MoveID2, MoveID3,...}\n",
    "         \"User2\": {MovieID12, MoveID5, MoveID8,...}\n",
    "         ...\n",
    "        }\n",
    "    \"\"\"\n",
    "    trainData = dict()\n",
    "    for i in range(len(originData)):\n",
    "        user = originData.iloc[i, 0]\n",
    "        item = originData.iloc[i, 1]\n",
    "        # # user: item\n",
    "        # trainData.setdefault(user, set())\n",
    "        # trainData[user].add(item)\n",
    "\n",
    "        # item : user\n",
    "        trainData.setdefault(item, set())\n",
    "        trainData[item].add(user)\n",
    "    return trainData"
   ]
  },
  {
   "cell_type": "code",
   "execution_count": 52,
   "metadata": {},
   "outputs": [],
   "source": [
    "iu_dic = PreProcessData(ratings)"
   ]
  },
  {
   "cell_type": "code",
   "execution_count": 53,
   "metadata": {},
   "outputs": [],
   "source": [
    "test_data = pd.DataFrame(columns=['UserID', 'MovieID', 'Rating'])\n",
    "k = 0\n",
    "num = min(item_count)\n",
    "for key in iu_dic.keys():\n",
    "    user = list(iu_dic[key])\n",
    "    user_1 = sample(user, num)\n",
    "    for ii in range(num):\n",
    "        a = ratings[(ratings['UserID'] == user_1[ii]) & (ratings['MovieID'] == key)]\n",
    "        test_data.loc[k] = [ user_1[ii], key, a['Rating']]# (ratings.iloc(a.item()),ignore_index=True)\n",
    "        ratings = ratings[~((ratings['UserID'] == user_1[ii]) & (ratings['MovieID'] == key))]# drop(a.index)\n",
    "        k = k+1\n"
   ]
  },
  {
   "cell_type": "code",
   "execution_count": 54,
   "metadata": {},
   "outputs": [],
   "source": [
    "train_data, val_data = train_test_split(ratings, test_size=1-train_ratio, random_state=2021)"
   ]
  },
  {
   "cell_type": "code",
   "execution_count": 55,
   "metadata": {},
   "outputs": [
    {
     "name": "stdout",
     "output_type": "stream",
     "text": [
      "随机切分成功\n",
      "train 数据集大小为：60502\n",
      "test 数据集大小为：11520\n",
      "val 数据集大小为：25930\n"
     ]
    }
   ],
   "source": [
    "train_data.to_csv('train_data.csv')\n",
    "test_data.to_csv('test_data.csv')\n",
    "val_data.to_csv('val_data.csv')\n",
    "print('随机切分成功')\n",
    "print('train 数据集大小为：' + str(len(train_data)))\n",
    "print('test 数据集大小为：' + str(len(test_data)))\n",
    "print('val 数据集大小为：' + str(len(val_data)))\n",
    "\n",
    "u = list(map(lambda x: int(x), train_data['UserID'].tolist()))\n",
    "m = list(map(lambda x: int(x), train_data['MovieID'].tolist()))\n",
    "r = list(map(lambda x: int(x), train_data['Rating'].tolist()))\n",
    "train_coo = coo_matrix((r, (u, m)), shape=(num_users+2, num_items+2))\n",
    "sp.save_npz('train_coo_record.npz', train_coo)\n",
    "\n",
    "u = list(map(lambda x: int(x), test_data['UserID'].tolist()))\n",
    "m = list(map(lambda x: int(x), test_data['MovieID'].tolist()))\n",
    "r = list(map(lambda x: int(x), test_data['Rating'].tolist()))\n",
    "test_coo = coo_matrix((r, (u, m)), shape=(num_users+2, num_items+2))\n",
    "sp.save_npz('test_coo_record.npz', test_coo)\n",
    "\n",
    "u = list(map(lambda x: int(x), val_data['UserID'].tolist()))\n",
    "m = list(map(lambda x: int(x), val_data['MovieID'].tolist()))\n",
    "r = list(map(lambda x: int(x), val_data['Rating'].tolist()))\n",
    "val_coo = coo_matrix((r, (u, m)), shape=(num_users+2, num_items+2))\n",
    "sp.save_npz('val_coo_record.npz', val_coo)\n",
    "\n",
    "\n",
    "item_list = train_data['MovieID'].value_counts().to_dict()\n",
    "# item_list = list(item_list.keys())\n",
    "\n",
    "np.save('item_train_pop_dic.npy',item_list)\n",
    "\n",
    "\n",
    "l = []\n",
    "for i in range(1, num_items+1):\n",
    "    if str(i) in item_list.keys():\n",
    "        l.append(item_list[str(i)])\n",
    "    else:\n",
    "        l.append(0)\n",
    "\n",
    "np.save('popularity_train.npy', l)\n",
    "\n",
    "\n",
    "item_list = ratings['MovieID'].value_counts().to_dict()\n",
    "np.save('item_pop_dic.npy',item_list)\n",
    "l = []\n",
    "for i in range(1, num_items+1):\n",
    "    if str(i) in item_list.keys():\n",
    "        l.append(item_list[str(i)])\n",
    "    else:\n",
    "        l.append(0)\n",
    "np.save('popularity_all.npy', l)\n"
   ]
  },
  {
   "cell_type": "code",
   "execution_count": 1,
   "metadata": {},
   "outputs": [
    {
     "ename": "NameError",
     "evalue": "name 'train_data' is not defined",
     "output_type": "error",
     "traceback": [
      "\u001b[0;31m---------------------------------------------------------------------------\u001b[0m",
      "\u001b[0;31mNameError\u001b[0m                                 Traceback (most recent call last)",
      "\u001b[0;32m<ipython-input-1-6a115dfddf45>\u001b[0m in \u001b[0;36m<module>\u001b[0;34m\u001b[0m\n\u001b[0;32m----> 1\u001b[0;31m \u001b[0mtrain_data\u001b[0m\u001b[0;34m\u001b[0m\u001b[0;34m\u001b[0m\u001b[0m\n\u001b[0m",
      "\u001b[0;31mNameError\u001b[0m: name 'train_data' is not defined"
     ]
    }
   ],
   "source": [
    "train_data"
   ]
  },
  {
   "cell_type": "code",
   "execution_count": null,
   "metadata": {},
   "outputs": [],
   "source": []
  }
 ],
 "metadata": {
  "interpreter": {
   "hash": "be5636def00e61f6af330a7d0a4c8b91af452f90e044406d70599019377de7d7"
  },
  "kernelspec": {
   "display_name": "Python 3",
   "language": "python",
   "name": "python3"
  },
  "language_info": {
   "codemirror_mode": {
    "name": "ipython",
    "version": 3
   },
   "file_extension": ".py",
   "mimetype": "text/x-python",
   "name": "python",
   "nbconvert_exporter": "python",
   "pygments_lexer": "ipython3",
   "version": "3.7.6"
  }
 },
 "nbformat": 4,
 "nbformat_minor": 2
}
